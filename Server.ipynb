{
 "cells": [
  {
   "cell_type": "code",
   "execution_count": 1,
   "metadata": {},
   "outputs": [],
   "source": [
    "import socket\n",
    "import sys\n",
    "import traceback\n",
    "from threading import Thread\n",
    "import hashlib\n",
    "import math"
   ]
  },
  {
   "cell_type": "code",
   "execution_count": 2,
   "metadata": {},
   "outputs": [],
   "source": [
    "host=\"127.0.0.1\"\n",
    "port=8080 \n",
    "\n",
    "soc=socket.socket(socket.AF_INET, socket.SOCK_STREAM)\n",
    "soc.setsockopt(socket.SOL_SOCKET, socket.SO_REUSEADDR, 1)\n",
    "soc.bind((host, port))\n",
    "soc.listen(5)"
   ]
  },
  {
   "cell_type": "code",
   "execution_count": 3,
   "metadata": {},
   "outputs": [],
   "source": [
    "def modInverse(a,m) : \n",
    "    m0=m \n",
    "    y=0\n",
    "    x=1\n",
    "    if(m==1) : \n",
    "        return 0\n",
    "    while(a>1) : \n",
    "        q=a//m \n",
    "        t=m \n",
    "        m=a%m \n",
    "        a=t \n",
    "        t=y \n",
    "        y=x-q*y \n",
    "        x=t \n",
    "\n",
    "    if(x<0): \n",
    "        x=x+m0 \n",
    "  \n",
    "    return x"
   ]
  },
  {
   "cell_type": "code",
   "execution_count": 4,
   "metadata": {},
   "outputs": [],
   "source": [
    "def client_thread(connection, ip, port):\n",
    "    is_active=True\n",
    "\n",
    "    while is_active:\n",
    "        client_input = connection.recv(4096)\n",
    "        client_input = client_input.decode(\"utf8\").rstrip()\n",
    "        client_input = str(client_input)\n",
    "\n",
    "        if \":q\" in client_input:\n",
    "            print(\"Client is requesting to quit\")\n",
    "            connection.close()\n",
    "            print(\"Connection \" + ip + \":\" + port + \" closed\")\n",
    "            is_active = False\n",
    "        else:\n",
    "            inputs=client_input.split()\n",
    "            print(inputs)\n",
    "            if int(inputs[0])==0:\n",
    "                q= int(inputs[1])\n",
    "                g= int(inputs[2])\n",
    "                r1= int(inputs[3])\n",
    "                r2= int(inputs[4])\n",
    "                print('prime:',q)\n",
    "                print('g:',g)\n",
    "                print('r1:',r1)\n",
    "                print('r2:',r2)\n",
    "            elif int(inputs[0])==1:\n",
    "                c=int(inputs[1])\n",
    "                s=int(inputs[2])\n",
    "                m=inputs[3]\n",
    "                print('c',c)\n",
    "                print('s',s)\n",
    "                print('m',m)\n",
    "                yA=modInverse(r1,q)\n",
    "                A_d=(pow(g,s,q)*pow(yA,c,q))%q\n",
    "\n",
    "                yB=modInverse(r2,q)\n",
    "                B_d=(pow(r1,s,q)*pow(yB,c,q))%q\n",
    "\n",
    "                hash=str(A_d)+str(B_d)+m\n",
    "                hash_object = hashlib.sha1(hash.encode())\n",
    "                hex_dig = hash_object.hexdigest()\n",
    "                c_here=int(hex_dig, 16)\n",
    "                print('hex_dig',hex_dig)\n",
    "                print('c_here', c_here)\n",
    "                if c_here==c:\n",
    "                    print(\"Matched\")\n",
    "                    message=\"matched: \"+m\n",
    "                    connection.sendall(message.encode(\"utf8\"))\n",
    "                else:\n",
    "                    print(\"Not matched\")\n",
    "                    message=\"not matched\"\n",
    "                    connection.sendall(message.encode(\"utf8\"))"
   ]
  },
  {
   "cell_type": "code",
   "execution_count": null,
   "metadata": {},
   "outputs": [
    {
     "name": "stdout",
     "output_type": "stream",
     "text": [
      "Connected with 127.0.0.1:7245\n",
      "['0', '100003219', '43', '73763837', '599036']\n",
      "prime: 100003219\n",
      "g: 43\n",
      "r1: 73763837\n",
      "r2: 599036\n",
      "['1', '279924126212164518290617316870181359229179095867', '7194357680267335288874466431994901261503695631678039828', 'HelloClient']\n",
      "c 279924126212164518290617316870181359229179095867\n",
      "s 7194357680267335288874466431994901261503695631678039828\n",
      "m HelloClient\n",
      "hex_dig 31083b608d9bf5c6b8a21de584e83c69144d6b3b\n",
      "c_here 279924126212164518290617316870181359229179095867\n",
      "Matched\n",
      "Client is requesting to quit\n",
      "Connection 127.0.0.1:7245 closed\n"
     ]
    }
   ],
   "source": [
    "while True:\n",
    "    connection, address = soc.accept()\n",
    "    ip, port = str(address[0]), str(address[1])\n",
    "    print(\"Connected with \" + ip + \":\" + port)\n",
    "    Thread(target=client_thread, args=(connection, ip, port)).start()\n",
    "\n",
    "soc.close()"
   ]
  },
  {
   "cell_type": "code",
   "execution_count": null,
   "metadata": {},
   "outputs": [],
   "source": []
  },
  {
   "cell_type": "code",
   "execution_count": null,
   "metadata": {},
   "outputs": [],
   "source": []
  }
 ],
 "metadata": {
  "kernelspec": {
   "display_name": "Python 3",
   "language": "python",
   "name": "python3"
  },
  "language_info": {
   "codemirror_mode": {
    "name": "ipython",
    "version": 3
   },
   "file_extension": ".py",
   "mimetype": "text/x-python",
   "name": "python",
   "nbconvert_exporter": "python",
   "pygments_lexer": "ipython3",
   "version": "3.9.0"
  }
 },
 "nbformat": 4,
 "nbformat_minor": 4
}
