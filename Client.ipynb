{
 "cells": [
  {
   "cell_type": "code",
   "execution_count": 1,
   "metadata": {},
   "outputs": [],
   "source": [
    "import socket\n",
    "import sys\n",
    "import random\n",
    "import hashlib\n",
    "import time\n",
    "import math"
   ]
  },
  {
   "cell_type": "code",
   "execution_count": 2,
   "metadata": {},
   "outputs": [
    {
     "name": "stdout",
     "output_type": "stream",
     "text": [
      "Connection Established\n",
      "\n",
      "\n"
     ]
    }
   ],
   "source": [
    "soc=socket.socket(socket.AF_INET, socket.SOCK_STREAM)\n",
    "host=\"127.0.0.1\"\n",
    "port=8080\n",
    "\n",
    "try:\n",
    "    soc.connect((host, port))\n",
    "    print(\"Connection Established\\n\\n\")\n",
    "except:\n",
    "    print(\"Connection error\")\n",
    "    sys.exit()"
   ]
  },
  {
   "cell_type": "code",
   "execution_count": 3,
   "metadata": {},
   "outputs": [
    {
     "name": "stdout",
     "output_type": "stream",
     "text": [
      "Prime 100003219\n",
      "Private key 25701099\n",
      "r1 73763837\n",
      "r2 599036\n",
      "hex_dig 31083b608d9bf5c6b8a21de584e83c69144d6b3b\n",
      "c 279924126212164518290617316870181359229179095867\n",
      "matched: HelloClient\n"
     ]
    },
    {
     "data": {
      "text/plain": [
       "2"
      ]
     },
     "execution_count": 3,
     "metadata": {},
     "output_type": "execute_result"
    }
   ],
   "source": [
    "p,g=100003219,43\n",
    "x=random.randint(1,p-1)\n",
    "print('Prime',p)\n",
    "print('Private key',x)\n",
    "r1=pow(g,x,p)\n",
    "print('r1',r1)\n",
    "r2=pow(r1,x,p)\n",
    "print('r2',r2)\n",
    "\n",
    "p_str=str(p)\n",
    "g_str=str(g)\n",
    "r1_str=str(r1)\n",
    "r2_str=str(r2)\n",
    "message='0'+' '+p_str+' '+g_str+' '+r1_str+' '+r2_str\n",
    "\n",
    "soc.sendall(message.encode(\"utf8\"))\n",
    "\n",
    "r=random.randint(1,p-1)\n",
    "A=pow(g,r,p)\n",
    "B=pow(r1,r,p)\n",
    "m=\"HelloClient\"\n",
    "\n",
    "hash=str(A)+str(B)+m\n",
    "\n",
    "hash_object = hashlib.sha1(hash.encode())\n",
    "hex_dig = hash_object.hexdigest()\n",
    "print('hex_dig', hex_dig)\n",
    "c=int(hex_dig,16)\n",
    "print('c',c)\n",
    "\n",
    "s=x*c+r%p\n",
    "\n",
    "message='1'+' '+str(c)+' '+str(s)+' '+m\n",
    "soc.sendall(message.encode(\"utf8\"))\n",
    "\n",
    "server_response= soc.recv(4096)\n",
    "decoded_input = server_response.decode(\"utf8\").rstrip()\n",
    "print(str(decoded_input))\n",
    "\n",
    "soc.send(b':q')"
   ]
  },
  {
   "cell_type": "code",
   "execution_count": null,
   "metadata": {},
   "outputs": [],
   "source": []
  },
  {
   "cell_type": "code",
   "execution_count": null,
   "metadata": {},
   "outputs": [],
   "source": []
  }
 ],
 "metadata": {
  "kernelspec": {
   "display_name": "Python 3",
   "language": "python",
   "name": "python3"
  },
  "language_info": {
   "codemirror_mode": {
    "name": "ipython",
    "version": 3
   },
   "file_extension": ".py",
   "mimetype": "text/x-python",
   "name": "python",
   "nbconvert_exporter": "python",
   "pygments_lexer": "ipython3",
   "version": "3.9.0"
  }
 },
 "nbformat": 4,
 "nbformat_minor": 4
}
